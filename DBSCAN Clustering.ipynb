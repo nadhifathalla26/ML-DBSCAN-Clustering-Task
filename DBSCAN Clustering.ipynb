{
  "cells": [
    {
      "cell_type": "markdown",
      "metadata": {
        "id": "WYWKaJfBcceO"
      },
      "source": [
        "**Lampiran Implementasi DBSCAN Clustering dengan Bahasa Pemrograman Python** <br>\n",
        "Nama : Muhammad Nadhif Athalla <br>\n",
        "NIM : 119140209 <br>\n",
        "Kelas : Pembelajaran Mesin R <br>\n",
        "Subject : Tugas Minggu 11 - Implementasi Dua Pendekatan Clustering "
      ]
    },
    {
      "cell_type": "code",
      "source": [
        "# kneed library instalation\n",
        "!pip install --upgrade kneed"
      ],
      "metadata": {
        "colab": {
          "base_uri": "https://localhost:8080/"
        },
        "id": "vCGCHyNYLLeg",
        "outputId": "91dcd226-17c7-44c4-be63-c940bee97e8e"
      },
      "execution_count": null,
      "outputs": [
        {
          "output_type": "stream",
          "name": "stdout",
          "text": [
            "Requirement already satisfied: kneed in /usr/local/lib/python3.7/dist-packages (0.7.0)\n",
            "Requirement already satisfied: scipy in /usr/local/lib/python3.7/dist-packages (from kneed) (1.4.1)\n",
            "Requirement already satisfied: numpy>=1.14.2 in /usr/local/lib/python3.7/dist-packages (from kneed) (1.21.5)\n",
            "Requirement already satisfied: matplotlib in /usr/local/lib/python3.7/dist-packages (from kneed) (3.2.2)\n",
            "Requirement already satisfied: python-dateutil>=2.1 in /usr/local/lib/python3.7/dist-packages (from matplotlib->kneed) (2.8.2)\n",
            "Requirement already satisfied: cycler>=0.10 in /usr/local/lib/python3.7/dist-packages (from matplotlib->kneed) (0.11.0)\n",
            "Requirement already satisfied: kiwisolver>=1.0.1 in /usr/local/lib/python3.7/dist-packages (from matplotlib->kneed) (1.4.2)\n",
            "Requirement already satisfied: pyparsing!=2.0.4,!=2.1.2,!=2.1.6,>=2.0.1 in /usr/local/lib/python3.7/dist-packages (from matplotlib->kneed) (3.0.8)\n",
            "Requirement already satisfied: typing-extensions in /usr/local/lib/python3.7/dist-packages (from kiwisolver>=1.0.1->matplotlib->kneed) (4.1.1)\n",
            "Requirement already satisfied: six>=1.5 in /usr/local/lib/python3.7/dist-packages (from python-dateutil>=2.1->matplotlib->kneed) (1.15.0)\n"
          ]
        }
      ]
    },
    {
      "cell_type": "code",
      "execution_count": null,
      "metadata": {
        "id": "8ZvqwbCQKjC7"
      },
      "outputs": [],
      "source": [
        "# importing library\n",
        "import numpy as np\n",
        "import pandas as pd\n",
        "import matplotlib.pyplot as plt"
      ]
    },
    {
      "cell_type": "code",
      "execution_count": null,
      "metadata": {
        "id": "xzp_96IsL88W"
      },
      "outputs": [],
      "source": [
        "# read dataset\n",
        "df = pd.read_csv(\"Minggu 11 - Dataset.csv\")"
      ]
    },
    {
      "cell_type": "code",
      "execution_count": null,
      "metadata": {
        "colab": {
          "base_uri": "https://localhost:8080/",
          "height": 206
        },
        "id": "zwlhrGidM_Gn",
        "outputId": "84b18f49-dbcf-4680-dcfa-a378f517ac7f"
      },
      "outputs": [
        {
          "output_type": "execute_result",
          "data": {
            "text/plain": [
              "   DATASET  X1  X2\n",
              "0        1   3   5\n",
              "1        2   5   8\n",
              "2        3  18  18\n",
              "3        4  11  10\n",
              "4        5  16  17"
            ],
            "text/html": [
              "\n",
              "  <div id=\"df-fc2dccd6-bf04-4b76-8a09-0561391f2b55\">\n",
              "    <div class=\"colab-df-container\">\n",
              "      <div>\n",
              "<style scoped>\n",
              "    .dataframe tbody tr th:only-of-type {\n",
              "        vertical-align: middle;\n",
              "    }\n",
              "\n",
              "    .dataframe tbody tr th {\n",
              "        vertical-align: top;\n",
              "    }\n",
              "\n",
              "    .dataframe thead th {\n",
              "        text-align: right;\n",
              "    }\n",
              "</style>\n",
              "<table border=\"1\" class=\"dataframe\">\n",
              "  <thead>\n",
              "    <tr style=\"text-align: right;\">\n",
              "      <th></th>\n",
              "      <th>DATASET</th>\n",
              "      <th>X1</th>\n",
              "      <th>X2</th>\n",
              "    </tr>\n",
              "  </thead>\n",
              "  <tbody>\n",
              "    <tr>\n",
              "      <th>0</th>\n",
              "      <td>1</td>\n",
              "      <td>3</td>\n",
              "      <td>5</td>\n",
              "    </tr>\n",
              "    <tr>\n",
              "      <th>1</th>\n",
              "      <td>2</td>\n",
              "      <td>5</td>\n",
              "      <td>8</td>\n",
              "    </tr>\n",
              "    <tr>\n",
              "      <th>2</th>\n",
              "      <td>3</td>\n",
              "      <td>18</td>\n",
              "      <td>18</td>\n",
              "    </tr>\n",
              "    <tr>\n",
              "      <th>3</th>\n",
              "      <td>4</td>\n",
              "      <td>11</td>\n",
              "      <td>10</td>\n",
              "    </tr>\n",
              "    <tr>\n",
              "      <th>4</th>\n",
              "      <td>5</td>\n",
              "      <td>16</td>\n",
              "      <td>17</td>\n",
              "    </tr>\n",
              "  </tbody>\n",
              "</table>\n",
              "</div>\n",
              "      <button class=\"colab-df-convert\" onclick=\"convertToInteractive('df-fc2dccd6-bf04-4b76-8a09-0561391f2b55')\"\n",
              "              title=\"Convert this dataframe to an interactive table.\"\n",
              "              style=\"display:none;\">\n",
              "        \n",
              "  <svg xmlns=\"http://www.w3.org/2000/svg\" height=\"24px\"viewBox=\"0 0 24 24\"\n",
              "       width=\"24px\">\n",
              "    <path d=\"M0 0h24v24H0V0z\" fill=\"none\"/>\n",
              "    <path d=\"M18.56 5.44l.94 2.06.94-2.06 2.06-.94-2.06-.94-.94-2.06-.94 2.06-2.06.94zm-11 1L8.5 8.5l.94-2.06 2.06-.94-2.06-.94L8.5 2.5l-.94 2.06-2.06.94zm10 10l.94 2.06.94-2.06 2.06-.94-2.06-.94-.94-2.06-.94 2.06-2.06.94z\"/><path d=\"M17.41 7.96l-1.37-1.37c-.4-.4-.92-.59-1.43-.59-.52 0-1.04.2-1.43.59L10.3 9.45l-7.72 7.72c-.78.78-.78 2.05 0 2.83L4 21.41c.39.39.9.59 1.41.59.51 0 1.02-.2 1.41-.59l7.78-7.78 2.81-2.81c.8-.78.8-2.07 0-2.86zM5.41 20L4 18.59l7.72-7.72 1.47 1.35L5.41 20z\"/>\n",
              "  </svg>\n",
              "      </button>\n",
              "      \n",
              "  <style>\n",
              "    .colab-df-container {\n",
              "      display:flex;\n",
              "      flex-wrap:wrap;\n",
              "      gap: 12px;\n",
              "    }\n",
              "\n",
              "    .colab-df-convert {\n",
              "      background-color: #E8F0FE;\n",
              "      border: none;\n",
              "      border-radius: 50%;\n",
              "      cursor: pointer;\n",
              "      display: none;\n",
              "      fill: #1967D2;\n",
              "      height: 32px;\n",
              "      padding: 0 0 0 0;\n",
              "      width: 32px;\n",
              "    }\n",
              "\n",
              "    .colab-df-convert:hover {\n",
              "      background-color: #E2EBFA;\n",
              "      box-shadow: 0px 1px 2px rgba(60, 64, 67, 0.3), 0px 1px 3px 1px rgba(60, 64, 67, 0.15);\n",
              "      fill: #174EA6;\n",
              "    }\n",
              "\n",
              "    [theme=dark] .colab-df-convert {\n",
              "      background-color: #3B4455;\n",
              "      fill: #D2E3FC;\n",
              "    }\n",
              "\n",
              "    [theme=dark] .colab-df-convert:hover {\n",
              "      background-color: #434B5C;\n",
              "      box-shadow: 0px 1px 3px 1px rgba(0, 0, 0, 0.15);\n",
              "      filter: drop-shadow(0px 1px 2px rgba(0, 0, 0, 0.3));\n",
              "      fill: #FFFFFF;\n",
              "    }\n",
              "  </style>\n",
              "\n",
              "      <script>\n",
              "        const buttonEl =\n",
              "          document.querySelector('#df-fc2dccd6-bf04-4b76-8a09-0561391f2b55 button.colab-df-convert');\n",
              "        buttonEl.style.display =\n",
              "          google.colab.kernel.accessAllowed ? 'block' : 'none';\n",
              "\n",
              "        async function convertToInteractive(key) {\n",
              "          const element = document.querySelector('#df-fc2dccd6-bf04-4b76-8a09-0561391f2b55');\n",
              "          const dataTable =\n",
              "            await google.colab.kernel.invokeFunction('convertToInteractive',\n",
              "                                                     [key], {});\n",
              "          if (!dataTable) return;\n",
              "\n",
              "          const docLinkHtml = 'Like what you see? Visit the ' +\n",
              "            '<a target=\"_blank\" href=https://colab.research.google.com/notebooks/data_table.ipynb>data table notebook</a>'\n",
              "            + ' to learn more about interactive tables.';\n",
              "          element.innerHTML = '';\n",
              "          dataTable['output_type'] = 'display_data';\n",
              "          await google.colab.output.renderOutput(dataTable, element);\n",
              "          const docLink = document.createElement('div');\n",
              "          docLink.innerHTML = docLinkHtml;\n",
              "          element.appendChild(docLink);\n",
              "        }\n",
              "      </script>\n",
              "    </div>\n",
              "  </div>\n",
              "  "
            ]
          },
          "metadata": {},
          "execution_count": 4
        }
      ],
      "source": [
        "# lookup the dataset head\n",
        "df.head()"
      ]
    },
    {
      "cell_type": "code",
      "execution_count": null,
      "metadata": {
        "colab": {
          "base_uri": "https://localhost:8080/"
        },
        "id": "5PSIrW52NC1n",
        "outputId": "fe18d74d-de9d-4133-a4f4-ce06a524f3b7"
      },
      "outputs": [
        {
          "output_type": "execute_result",
          "data": {
            "text/plain": [
              "(20, 3)"
            ]
          },
          "metadata": {},
          "execution_count": 5
        }
      ],
      "source": [
        "# lookup the dataset shape\n",
        "df.shape"
      ]
    },
    {
      "cell_type": "code",
      "execution_count": null,
      "metadata": {
        "colab": {
          "base_uri": "https://localhost:8080/"
        },
        "id": "kjRYE4C5NJgl",
        "outputId": "82dd6cf4-44f3-4086-fbf0-f4608bc67e84"
      },
      "outputs": [
        {
          "output_type": "execute_result",
          "data": {
            "text/plain": [
              "array([[ 3,  5],\n",
              "       [ 5,  8],\n",
              "       [18, 18],\n",
              "       [11, 10],\n",
              "       [16, 17],\n",
              "       [ 3, 18],\n",
              "       [ 4, 20],\n",
              "       [ 6,  7],\n",
              "       [ 5, 11],\n",
              "       [ 1, 18],\n",
              "       [17, 18],\n",
              "       [16, 20],\n",
              "       [ 5, 18],\n",
              "       [ 7,  4],\n",
              "       [13, 12],\n",
              "       [ 3, 16],\n",
              "       [18, 20],\n",
              "       [15, 15],\n",
              "       [ 6, 10],\n",
              "       [ 8,  5]])"
            ]
          },
          "metadata": {},
          "execution_count": 6
        }
      ],
      "source": [
        "# get only the features needed\n",
        "df = df.iloc[:, [1,2]].values\n",
        "df"
      ]
    },
    {
      "cell_type": "code",
      "execution_count": null,
      "metadata": {
        "colab": {
          "base_uri": "https://localhost:8080/",
          "height": 295
        },
        "id": "0tDW24HcNbWN",
        "outputId": "7948dbd7-49cf-4d47-fcc1-3cb3c2f4a2f2"
      },
      "outputs": [
        {
          "output_type": "display_data",
          "data": {
            "text/plain": [
              "<Figure size 432x288 with 1 Axes>"
            ],
            "image/png": "[encoded data removed]"
          },
          "metadata": {
            "needs_background": "light"
          }
        }
      ],
      "source": [
        "# plot the dataset before clustering\n",
        "plt.scatter(df[:,0], df[:,1], s=10, c=\"blue\")\n",
        "\n",
        "plt.title(\"The Visualization Before Clustering Process\")\n",
        "plt.xlabel(\"x1 Value\")\n",
        "plt.ylabel(\"x2 Value\")\n",
        "plt.show()"
      ]
    },
    {
      "cell_type": "code",
      "source": [
        "# pre-processing data with MinMaxScaler (not done)\n",
        "from sklearn.preprocessing import MinMaxScaler\n",
        "scaler = MinMaxScaler()\n",
        "dfx1 = df[:,0].reshape(-1,1)\n",
        "dfx2 = df[:,1].reshape(-1,1)\n",
        "scaler.fit(dfx1)\n",
        "dfx1 = scaler.transform(dfx1)\n",
        "\n",
        "scaler.fit(dfx2)\n",
        "dfx2 = scaler.transform(dfx2)"
      ],
      "metadata": {
        "id": "YpDG4rVDEPm-"
      },
      "execution_count": null,
      "outputs": []
    },
    {
      "cell_type": "code",
      "source": [
        "# count nearest neighbors\n",
        "from sklearn.neighbors import NearestNeighbors\n",
        "neighbors = NearestNeighbors(n_neighbors=20)\n",
        "neighbors_fit = neighbors.fit(df)\n",
        "distances, indices = neighbors_fit.kneighbors(df)"
      ],
      "metadata": {
        "id": "m8l130P-IgS1"
      },
      "execution_count": null,
      "outputs": []
    },
    {
      "cell_type": "code",
      "source": [
        "# visualize nearest neighbors\n",
        "distances = np.sort(distances, axis=0)\n",
        "distances = distances[:,1]\n",
        "plt.plot(distances)"
      ],
      "metadata": {
        "colab": {
          "base_uri": "https://localhost:8080/",
          "height": 283
        },
        "id": "o2CGvQ5oJvuO",
        "outputId": "9ced8829-3c3a-41c3-a93a-542e53384c0f"
      },
      "execution_count": null,
      "outputs": [
        {
          "output_type": "execute_result",
          "data": {
            "text/plain": [
              "[<matplotlib.lines.Line2D at 0x7f6667cf41d0>]"
            ]
          },
          "metadata": {},
          "execution_count": 16
        },
        {
          "output_type": "display_data",
          "data": {
            "text/plain": [
              "<Figure size 432x288 with 1 Axes>"
            ],
            "image/png": "[encoded data removed]"
          },
          "metadata": {
            "needs_background": "light"
          }
        }
      ]
    },
    {
      "cell_type": "code",
      "source": [
        "# Elbow Point\n",
        "from kneed import KneeLocator\n",
        "x = np.arange(len(distances))\n",
        "epsilon = KneeLocator(x, distances, curve='convex', direction='increasing', interp_method='polynomial')\n",
        "\n",
        "# Visualization\n",
        "epsilon.plot_knee()\n",
        "plt.ylabel(\"Epsilon\")\n",
        "print(\"Nilai Optimum Epsilon Adalah\", distances[epsilon.knee])"
      ],
      "metadata": {
        "colab": {
          "base_uri": "https://localhost:8080/",
          "height": 408
        },
        "id": "ClaPfuCFKEUg",
        "outputId": "d968a007-5e7f-44f7-ca94-1cb23710c79d"
      },
      "execution_count": null,
      "outputs": [
        {
          "output_type": "stream",
          "name": "stdout",
          "text": [
            "Nilai Optimum Epsilon Adalah 2.23606797749979\n"
          ]
        },
        {
          "output_type": "display_data",
          "data": {
            "text/plain": [
              "<Figure size 432x432 with 1 Axes>"
            ],
            "image/png": "[encoded data removed]"
          },
          "metadata": {
            "needs_background": "light"
          }
        }
      ]
    },
    {
      "cell_type": "code",
      "execution_count": null,
      "metadata": {
        "id": "6XIUv2XDuSN9"
      },
      "outputs": [],
      "source": [
        "# inisiasi epsilon dan minPTS value\n",
        "epsilon = 2.23606797749979\n",
        "minPTS = 2"
      ]
    },
    {
      "cell_type": "code",
      "execution_count": null,
      "metadata": {
        "id": "5fSe6KAPN0u2"
      },
      "outputs": [],
      "source": [
        "# importing DBSCAN cluster library, then create models with eps and minPTS value\n",
        "from sklearn.cluster import DBSCAN\n",
        "models = DBSCAN(eps=epsilon, min_samples=minPTS)"
      ]
    },
    {
      "cell_type": "code",
      "source": [
        "# fitting the models\n",
        "clusters = models.fit_predict(df)"
      ],
      "metadata": {
        "id": "ionvW1F7vfIb"
      },
      "execution_count": null,
      "outputs": []
    },
    {
      "cell_type": "code",
      "execution_count": null,
      "metadata": {
        "colab": {
          "base_uri": "https://localhost:8080/"
        },
        "id": "xqQyIlKTOLJN",
        "outputId": "911da208-2891-43a3-c2a5-2b091f4aa4d8"
      },
      "outputs": [
        {
          "output_type": "stream",
          "name": "stdout",
          "text": [
            "There are 5 number of clusters\n",
            "The clusters are [-1  0  1  2  3]\n"
          ]
        }
      ],
      "source": [
        "# lookup how much cluster with those models\n",
        "theClusters = np.unique(clusters)\n",
        "total_clusters = len(theClusters)\n",
        "\n",
        "print(f\"There are {total_clusters:,} number of clusters\")\n",
        "print(\"The clusters are\", theClusters)"
      ]
    },
    {
      "cell_type": "code",
      "execution_count": null,
      "metadata": {
        "colab": {
          "base_uri": "https://localhost:8080/",
          "height": 295
        },
        "id": "Gm1HGSZDOOmG",
        "outputId": "1fc442e1-f025-4105-942f-7fc3a26700fc"
      },
      "outputs": [
        {
          "output_type": "display_data",
          "data": {
            "text/plain": [
              "<Figure size 432x288 with 1 Axes>"
            ],
            "image/png": "[encoded data removed]"
          },
          "metadata": {
            "needs_background": "light"
          }
        }
      ],
      "source": [
        "# plot the result after clustering process\n",
        "plt.scatter(df[:,0], df[:,1], c = clusters, cmap=\"plasma\")\n",
        "\n",
        "plt.title(\"The Visualization After Clustering Process\")\n",
        "plt.xlabel(\"x1 Value\")\n",
        "plt.ylabel(\"x2 Value\")\n",
        "plt.show()"
      ]
    },
    {
      "cell_type": "code",
      "source": [
        "# count the accuracy\n",
        "from sklearn.metrics import silhouette_score\n",
        "result = silhouette_score(df, clusters)\n",
        "print(\"Silhouette Score Value is\", result)"
      ],
      "metadata": {
        "colab": {
          "base_uri": "https://localhost:8080/"
        },
        "id": "l2pqEdBcRI_8",
        "outputId": "dbae0525-a299-40b7-e516-2220b217a529"
      },
      "execution_count": null,
      "outputs": [
        {
          "output_type": "stream",
          "name": "stdout",
          "text": [
            "Silhouette Score Value is 0.5217415338469868\n"
          ]
        }
      ]
    }
  ],
  "metadata": {
    "colab": {
      "name": "119140209 - DBSCAN Clustering - Density Approach.ipynb",
      "provenance": []
    },
    "kernelspec": {
      "display_name": "Python 3",
      "name": "python3"
    },
    "language_info": {
      "name": "python"
    }
  },
  "nbformat": 4,
  "nbformat_minor": 0
}